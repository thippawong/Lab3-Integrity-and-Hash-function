{
 "cells": [
  {
   "cell_type": "code",
   "execution_count": 2,
   "metadata": {},
   "outputs": [
    {
     "name": "stdout",
     "output_type": "stream",
     "text": [
      "Hexadecimal output (MD5):\n",
      "e8614477fbd164cd9927a4115edbf330\n",
      "Hexadecimal output (SHA1):\n",
      "c3903a5d0ff1ab9994e6a6a81407ec22d13c253e\n",
      "Hexadecimal output (SHA224):\n",
      "1fabd877f2b01c0d5aca3c875576e3d521559ce63c9b6c13b519f462\n",
      "Hexadecimal output (SHA256):\n",
      "7a14ef7727d73ed06caf1d1b00e5bb833f0ea0cda87dc02671cc5cfecd36427b\n",
      "Hexadecimal output (SHA384):\n",
      "5c98784f8a394d2a061135bb464b51d7c7650b9057838b286edc3292ca9dacdc1091e8affabf6b72f8539cfd69f24564\n",
      "Hexadecimal output (SHA512):\n",
      "eef8ed96bb1522a34b6929e37153187a6f196bb938e3d35f731251ac9424ae81331041468acb1d5a41e961a5b61b8fa038bd967bcc112e7b9efd1849d9eb851e\n"
     ]
    }
   ],
   "source": [
    "import hashlib\n",
    "\n",
    "data1 = 'IamUsingMD5'\n",
    "data2 = 'IamUsingSHA1'\n",
    "data3 = 'IamUsingSHA224'\n",
    "data4 = 'IamUsingSHA256'\n",
    "data5 = 'IamUsingSHA384'\n",
    "data6 = 'IamUsingSHA512'\n",
    "\n",
    "hash1 = hashlib.md5(data1.encode())\n",
    "hash2 = hashlib.sha1(data2.encode())\n",
    "hash3 = hashlib.sha224(data3.encode())\n",
    "hash4 = hashlib.sha256(data4.encode())\n",
    "hash5 = hashlib.sha384(data5.encode())\n",
    "hash6 = hashlib.sha512(data6.encode())\n",
    "\n",
    "\n",
    "digest1 = hash1.hexdigest()\n",
    "print('Hexadecimal output (MD5):')\n",
    "print(digest1)\n",
    "\n",
    "digest2 = hash2.hexdigest()\n",
    "print('Hexadecimal output (SHA1):')\n",
    "print(digest2)\n",
    "\n",
    "digest3 = hash3.hexdigest()\n",
    "print('Hexadecimal output (SHA224):')\n",
    "print(digest3)\n",
    "\n",
    "digest4 = hash4.hexdigest()\n",
    "print('Hexadecimal output (SHA256):')\n",
    "print(digest4)\n",
    "\n",
    "digest5 = hash5.hexdigest()\n",
    "print('Hexadecimal output (SHA384):')\n",
    "print(digest5)\n",
    "\n",
    "digest6 = hash6.hexdigest()\n",
    "print('Hexadecimal output (SHA512):')\n",
    "print(digest6)\n"
   ]
  },
  {
   "cell_type": "code",
   "execution_count": 18,
   "metadata": {},
   "outputs": [
    {
     "name": "stdout",
     "output_type": "stream",
     "text": [
      "b'\\xec\\nXtM\\x02/\\xb29X\\xdb\\xce\\x8f\\xdd\\xd5\\xf5\\xeb\\x9af\\x8b>\\xb2\\x9f\\xd9\\xdc\\xa0)\\x8ba\\xf7\\xfdS'\n",
      "Digest size:  32 bytes\n",
      "HMAC hexdigest:  ec0a58744d022fb23958dbce8fddd5f5eb9a668b3eb29fd9dca0298b61f7fd53\n",
      "Signture matches\n"
     ]
    }
   ],
   "source": [
    "import hmac, hashlib\n",
    "\n",
    "key = b'Our Shared Secret Key'\n",
    "data = b'The quick brown fox jumps over the lazy dog'\n",
    "sig_digest = 'ec0a58744d022fb23958dbce8fddd5f5eb9a668b3eb29fd9dca0298b61f7fd53'\n",
    "\n",
    "hmac_digest = hmac.new(key, data, hashlib.sha3_256)\n",
    "hmac_hexdigest = hmac_digest.hexdigest()\n",
    "\n",
    "print(hmac_digest.digest())\n",
    "print('Digest size: ',hmac_digest.digest_size,'bytes')\n",
    "print('HMAC hexdigest: ', hmac_hexdigest)\n",
    "\n",
    "\n",
    "if hmac.compare_digest(hmac_hexdigest, sig_digest):\n",
    "    print('Signture matches')\n",
    "else:\n",
    "    print ('HMAC digest does not match signature digest')"
   ]
  },
  {
   "cell_type": "code",
   "execution_count": 28,
   "metadata": {},
   "outputs": [
    {
     "name": "stdout",
     "output_type": "stream",
     "text": [
      "\n",
      "Genesis Block's hash\n",
      "02a4ede239f0f9b1b24ad2f7675c0f4d522a44a62af56f4b6ed60a8b6cc2eb1e\n",
      "\n",
      "Block2's hash\n",
      "827095f0df0257473c4dfc9ddc9e95d47378761e70941b33bde75912e588d74b\n",
      "\n",
      "Block3's hash\n",
      "fc09b2f7735667efc8be727b140d9eaf6d91b334ba8b933d1d0cbd333c10b7fc\n"
     ]
    }
   ],
   "source": [
    "import hashlib, json\n",
    "from time import time\n",
    "\n",
    "last_block_hash = None\n",
    "\n",
    "block_genesis = {\n",
    " 'prev_hash' : None,\n",
    " 'transactions' : {'tx1' : 'send 10', 'tx2' : 'send 100'}\n",
    "}\n",
    "\n",
    "block_2 = {\n",
    " 'prev_hash' : None,\n",
    " 'transactions' : {'tx1' : 'send 20', 'tx2' : 'send 200'}\n",
    "}\n",
    "\n",
    "block_3 = {\n",
    " 'prev_hash' : None,\n",
    " 'transactions' : {'tx1' : 'send 30', 'tx2' : 'send 300'}\n",
    "}\n",
    "\n",
    "def hashing_block(block, prev_hash):\n",
    "     #prev_hash = None\n",
    "     #for block in block:\n",
    "        block['prev_hash'] = prev_hash\n",
    "        block_ordered = json.dumps(block, sort_keys=True).encode('utf-8')\n",
    "        block_hash = hashlib.sha256(block_ordered).hexdigest()\n",
    "        prev_hash = block_hash\n",
    "        return block_hash\n",
    "\n",
    "\n",
    "print(\"\\nGenesis Block's hash\")\n",
    "last_block_hash = hashing_block(block_genesis, last_block_hash)\n",
    "print(last_block_hash)\n",
    "\n",
    "print(\"\\nBlock2's hash\")\n",
    "last_block_hash = hashing_block(block_2, last_block_hash)\n",
    "print(last_block_hash)\n",
    "\n",
    "print(\"\\nBlock3's hash\")\n",
    "last_block_hash = hashing_block(block_3, last_block_hash)\n",
    "print(last_block_hash)\n",
    "\n",
    "\n"
   ]
  },
  {
   "cell_type": "code",
   "execution_count": 40,
   "metadata": {},
   "outputs": [
    {
     "name": "stdout",
     "output_type": "stream",
     "text": [
      "00006f00381cd825427ae24ed78e0c097d8926c60a798519cab491c7565f9ca1\n",
      "You got it! Nonce =  148432\n"
     ]
    }
   ],
   "source": [
    "# the proof of work algorithm\n",
    "def proof_of_work():\n",
    "    for nonce in range(999999):\n",
    "        a = hashlib.sha256(last_block_hash.encode() + str(nonce).encode())\n",
    "        b = a.hexdigest()\n",
    "        if b[0:4] == '0000':\n",
    "            print(a.hexdigest())\n",
    "            return nonce\n",
    "            break\n",
    "        \n",
    "\n",
    "nonce = proof_of_work()\n",
    "print('You got it! Nonce = ',nonce)"
   ]
  },
  {
   "cell_type": "code",
   "execution_count": null,
   "metadata": {},
   "outputs": [],
   "source": []
  }
 ],
 "metadata": {
  "kernelspec": {
   "display_name": "Python 3",
   "language": "python",
   "name": "python3"
  },
  "language_info": {
   "codemirror_mode": {
    "name": "ipython",
    "version": 3
   },
   "file_extension": ".py",
   "mimetype": "text/x-python",
   "name": "python",
   "nbconvert_exporter": "python",
   "pygments_lexer": "ipython3",
   "version": "3.6.8"
  }
 },
 "nbformat": 4,
 "nbformat_minor": 2
}
